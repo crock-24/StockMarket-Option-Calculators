{
 "cells": [
  {
   "cell_type": "code",
   "execution_count": 6,
   "id": "8f73f435",
   "metadata": {},
   "outputs": [],
   "source": [
    "#Cody Rorick\n",
    "#purpose: To find the return on covered calls \n",
    "#inputs: Yahoo finance data\n",
    "#outputs: plot of covered call return on given stock depending on how far out you sell"
   ]
  },
  {
   "cell_type": "code",
   "execution_count": 6,
   "id": "0d93d8e8",
   "metadata": {},
   "outputs": [],
   "source": [
    "import pandas as pd\n",
    "import numpy as np\n",
    "import yfinance as yf\n",
    "import matplotlib.pyplot as plt"
   ]
  },
  {
   "cell_type": "code",
   "execution_count": 7,
   "id": "6e46d164",
   "metadata": {},
   "outputs": [],
   "source": [
    "def getData(symbol):\n",
    "\n",
    "    tk = yf.Ticker(symbol)\n",
    "    # Expiration dates\n",
    "    exps = tk.options\n",
    "    #creating df for options\n",
    "    options = pd.DataFrame()\n",
    "    \n",
    "    for e in exps[0:6]:\n",
    "        opt = tk.option_chain(e).calls\n",
    "        opt['expirationDate'] = e\n",
    "        options = pd.concat([options,opt], ignore_index=True)\n",
    "        \n",
    "    #getting the average strike price\n",
    "    options[['bid', 'ask', 'strike']] = options[['bid', 'ask', 'strike']].apply(pd.to_numeric)\n",
    "    options['mark'] = (options['bid'] + options['ask']) / 2 \n",
    "    \n",
    "    # Drop unnecessary columns\n",
    "    options = options.drop(columns = ['inTheMoney', 'contractSymbol', 'volume', 'openInterest', 'impliedVolatility', 'contractSize', 'currency', 'change', 'percentChange', 'lastTradeDate', 'lastPrice'])\n",
    "    \n",
    "    #adding ticker and current stock price to dataframe\n",
    "    options['symbol'] = symbol\n",
    "    options['current price'] = tk.info['currentPrice']\n",
    "    \n",
    "    return options"
   ]
  },
  {
   "cell_type": "code",
   "execution_count": 8,
   "id": "2209144d",
   "metadata": {},
   "outputs": [],
   "source": [
    "def strikeFinder(df, otm_percent_list):\n",
    "    currentPrice = df.loc[0, 'current price']\n",
    "    dates = set(df['expirationDate'])\n",
    "    optionsData2 = pd.DataFrame()\n",
    "    for percent in otm_percent_list:\n",
    "        desiredStrikePrice = currentPrice * (1 + (percent/100))\n",
    "        for date in dates:\n",
    "            StrikesOnDate = list(df.loc[df['expirationDate'] == date, 'strike'])\n",
    "            closestDesiredStrike = min(StrikesOnDate, key=lambda x:abs(x-desiredStrikePrice))\n",
    "            df.loc[(df['expirationDate'] == date) & (df['strike'] == closestDesiredStrike), 'desired_strike_%otm'] = round((1 + (percent/100))*100 - 100, 0)\n",
    "            optionsData2 = pd.concat([optionsData2, df.loc[(df['expirationDate'] == date) & (df['strike'] == closestDesiredStrike), :]])\n",
    "    optionsData2 = optionsData2.reset_index(drop = True)\n",
    "    return optionsData2"
   ]
  },
  {
   "cell_type": "code",
   "execution_count": 9,
   "id": "6b33619f",
   "metadata": {},
   "outputs": [],
   "source": [
    "def strikeBarPlotter(df):\n",
    "    #sort the options data and set up the information for the axes\n",
    "    df = df.sort_values(by=['expirationDate', 'desired_strike_%otm'])\n",
    "    X = list(set(df['expirationDate']))\n",
    "    X.sort()\n",
    "    X_axis = np.arange(len(X))\n",
    "    width = 0.15\n",
    "    OTM_percentages = list(set(df['desired_strike_%otm']))\n",
    "    OTM_percentages.sort()\n",
    "    vals = []\n",
    "    bars = []\n",
    "    \n",
    "    #the % return for each % OTM call will be the height of the bar\n",
    "    for percent in OTM_percentages:\n",
    "        vals.append(list(df.loc[df['desired_strike_%otm'] == percent, '%_return'].values))\n",
    "        \n",
    "    #the bars will be different shades on greyscale, the height will be \n",
    "    for i in range(0, len(vals)):\n",
    "        bars.append(plt.bar(X_axis + i*width, vals[i], width, color = str((1/(i+1.125)))))\n",
    "    \n",
    "    #set up the chart axes labeling\n",
    "    plt.xlabel('DATE') \n",
    "    plt.ylabel('% RETURN') \n",
    "    plt.title(f\"Covered Calls for: {df.loc[0, 'symbol']}, Capital Required: ${df.loc[0, 'current price'] * 100}\")\n",
    "    \n",
    "    #generate the plot with ticks at every \n",
    "    plt.xticks(X_axis+width, X) \n",
    "    plt.legend(bars, OTM_percentages, title = '% OTM') \n",
    "    plt.show() "
   ]
  },
  {
   "cell_type": "code",
   "execution_count": 10,
   "id": "bf452d9d",
   "metadata": {},
   "outputs": [
    {
     "name": "stdout",
     "output_type": "stream",
     "text": [
      "what symbol are you interested in?:PYPL\n"
     ]
    },
    {
     "data": {
      "image/png": "[encoded data removed]",
      "text/plain": [
       "<Figure size 640x480 with 1 Axes>"
      ]
     },
     "metadata": {},
     "output_type": "display_data"
    }
   ],
   "source": [
    "symbol = input('what symbol are you interested in?:')\n",
    "options = strikeFinder(getData(symbol), [0, 5, 10])\n",
    "options['%_return'] = (options['mark']/options['current price']) * 100\n",
    "strikeBarPlotter(options)"
   ]
  },
  {
   "cell_type": "code",
   "execution_count": null,
   "id": "ee7898f4",
   "metadata": {},
   "outputs": [],
   "source": []
  }
 ],
 "metadata": {
  "kernelspec": {
   "display_name": "Python 3 (ipykernel)",
   "language": "python",
   "name": "python3"
  },
  "language_info": {
   "codemirror_mode": {
    "name": "ipython",
    "version": 3
   },
   "file_extension": ".py",
   "mimetype": "text/x-python",
   "name": "python",
   "nbconvert_exporter": "python",
   "pygments_lexer": "ipython3",
   "version": "3.10.9"
  }
 },
 "nbformat": 4,
 "nbformat_minor": 5
}
