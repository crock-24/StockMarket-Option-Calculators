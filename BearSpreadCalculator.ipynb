{
 "cells": [
  {
   "cell_type": "code",
   "execution_count": 1,
   "id": "06fb58a3",
   "metadata": {},
   "outputs": [],
   "source": [
    "#Cody Rorick\n",
    "#purpose: To find the return and losses associated with a lower risk leveraged bear put spread\n",
    "#inputs: Yahoo finance stock market data\n",
    "#outputs: Bar plot of bear put spread risk/reward profile"
   ]
  },
  {
   "cell_type": "code",
   "execution_count": 78,
   "id": "d207b953",
   "metadata": {},
   "outputs": [],
   "source": [
    "import pandas as pd\n",
    "import numpy as np\n",
    "import yfinance as yf\n",
    "import matplotlib.pyplot as plt"
   ]
  },
  {
   "cell_type": "code",
   "execution_count": 79,
   "id": "29f21df2",
   "metadata": {},
   "outputs": [],
   "source": [
    "def getData(symbol):\n",
    "\n",
    "    tk = yf.Ticker(symbol)\n",
    "    # Expiration dates\n",
    "    exps = tk.options\n",
    "    print('A list of all contract expiration dates: ')\n",
    "    print(*exps)\n",
    "    expDate = input('\\nWhich date would you like to analyze in yyyy-mm-dd format: ' )\n",
    "    \n",
    "    #creating df for options\n",
    "    options = pd.DataFrame()\n",
    "    \n",
    "    #getting options data for specific date\n",
    "    options = tk.option_chain(expDate).puts\n",
    "    options['expirationDate'] = expDate\n",
    "        \n",
    "    #getting the average strike price\n",
    "    options[['bid', 'ask', 'strike']] = options[['bid', 'ask', 'strike']].apply(pd.to_numeric)\n",
    "    options['mark'] = (options['bid'] + options['ask']) / 2 \n",
    "    \n",
    "    # Drop unnecessary columns\n",
    "    options = options.drop(columns = ['inTheMoney', 'contractSymbol', 'volume', 'openInterest', 'impliedVolatility', 'contractSize', 'currency', 'change', 'percentChange', 'lastTradeDate', 'lastPrice'])\n",
    "    \n",
    "    #adding ticker and current stock price to dataframe\n",
    "    options['symbol'] = symbol\n",
    "    options['current price'] = tk.info['currentPrice']\n",
    "    \n",
    "    #price underlying asset has to reach to break even\n",
    "    options['breakeven'] = options['strike'] - options['mark']\n",
    "\n",
    "    return options"
   ]
  },
  {
   "cell_type": "code",
   "execution_count": 86,
   "id": "eb9d7f54",
   "metadata": {},
   "outputs": [],
   "source": [
    "def putFinder(df, cushionPercent):\n",
    "    \n",
    "    #Target price will determines where you want to buy the put and the first leg of the spread to start\n",
    "    targetPrice = input(f\"current price is: {df.loc[0, 'current price']}, what is your price target for: {df.loc[0, 'expirationDate']}: \")\n",
    "    \n",
    "    #The true projected price of the stock (where you break even) is the strike price minus the net premium\n",
    "    truePrices = list(df.loc[:, 'breakeven'])\n",
    "    \n",
    "    #The target breakeven is the point where your target price equals the strike-prem\n",
    "    targetBreakeven = min(truePrices, key=lambda x:abs(x-float(targetPrice)))\n",
    "    \n",
    "    #How much cushion do you want to put in your forecast\n",
    "    riskAdjustedPrice = min(truePrices, key=lambda x:abs(x-(targetBreakeven*(1+cushionPercent))))\n",
    "    \n",
    "    #only grab the data at or below the target cushion\n",
    "    df = df.loc[df['breakeven'] <= riskAdjustedPrice, :]\n",
    "    df = df.sort_values(by=['breakeven'], ascending = [False])\n",
    "    df = df.reset_index(drop = True)\n",
    "    \n",
    "    #Beyond the initial strike that is bought, all puts to be sold should be OTM from target price\n",
    "    firstLeg = df.iloc[[0]]\n",
    "    secondLeg = df.loc[df['strike'] < float(targetPrice), :]\n",
    "    df = pd.concat([secondLeg, firstLeg], ignore_index = True)\n",
    "    df = df.sort_values(by=['breakeven'], ascending = [False])\n",
    "\n",
    "    return df"
   ]
  },
  {
   "cell_type": "code",
   "execution_count": 87,
   "id": "2b0fd020",
   "metadata": {},
   "outputs": [],
   "source": [
    "def spreadFinder(df):\n",
    "    bearSpread = pd.DataFrame(columns = ['current price', 'symbol', 'buyStrike', 'buyStrikePrem', 'sellStrike', 'sellStrikePrem', 'maxProf', 'maxLoss', 'breakevenPrice', 'date'])\n",
    "    for i in range(1, int(len(df)/2)):\n",
    "        bearSpread.loc[i-1, 'buyStrike'] = df.loc[0, 'strike']\n",
    "        bearSpread.loc[i-1, 'buyStrikePrem'] = df.loc[0, 'mark']\n",
    "        bearSpread.loc[i-1, 'sellStrike'] = df.loc[i, 'strike']\n",
    "        bearSpread.loc[i-1, 'sellStrikePrem'] = df.loc[i, 'mark']\n",
    "        bearSpread.loc[i-1, 'maxLoss'] = (df.loc[0, 'mark'] - df.loc[i, 'mark']) * 100\n",
    "        bearSpread.loc[i-1, 'maxProf'] = (df.loc[0, 'strike'] - df.loc[i, 'strike'] - (df.loc[0, 'mark'] - df.loc[i, 'mark'])) * 100\n",
    "        bearSpread.loc[i-1, 'breakevenPrice'] = df.loc[0, 'strike'] - (df.loc[0, 'mark'] - df.loc[i, 'mark'])\n",
    "        bearSpread.loc[i-1, 'date'] = df.loc[0, 'expirationDate']\n",
    "        bearSpread.loc[i-1, 'symbol'] = df.loc[0, 'symbol']\n",
    "        bearSpread.loc[i-1, 'current price'] = df.loc[0, 'current price']\n",
    "    return bearSpread"
   ]
  },
  {
   "cell_type": "code",
   "execution_count": 88,
   "id": "24745251",
   "metadata": {},
   "outputs": [],
   "source": [
    "def strikeBarPlotter(df):\n",
    "    #sort the options data and set up the information for the axes\n",
    "    df['breakevenPrice'] = df['breakevenPrice'].apply(lambda x: round(x, 2))\n",
    "    df = df.sort_values(by='breakevenPrice', ascending = [False])\n",
    "    X = list(df['breakevenPrice'])\n",
    "    X_axis = np.arange(len(X))\n",
    "    width = 0.15\n",
    "    vals = []\n",
    "    bars = []\n",
    "    \n",
    "    #the % return for each %OTM put will be the height of the bar\n",
    "    vals.append(list(df['maxProf'].values))\n",
    "    vals.append(list(df['maxLoss'].values))\n",
    "        \n",
    "    #the bars will be different shades on greyscale\n",
    "    for i in range(0, len(vals)):\n",
    "        bars.append(plt.bar(X_axis + i * width, vals[i], width, color = str((1/(i+1.125)))))\n",
    "    \n",
    "    #set up the chart axes labeling\n",
    "    plt.xlabel('Break Even Price ($)') \n",
    "    plt.ylabel('Risk/Reward Profile ($)') \n",
    "    plt.title(f\"Bear put spreads for: {df.loc[0, 'symbol']}, Date: {df.loc[0, 'date']}, Current Price: ${df.loc[0, 'current price']}\")\n",
    "    \n",
    "    #generate the plot with ticks at every spread\n",
    "    plt.xticks(X_axis+width, X, fontsize = 8) \n",
    "    plt.legend(bars, ['Max Profit', 'Max Loss']) \n",
    "    plt.show() "
   ]
  },
  {
   "cell_type": "code",
   "execution_count": 114,
   "id": "c8b99603",
   "metadata": {},
   "outputs": [
    {
     "name": "stdout",
     "output_type": "stream",
     "text": [
      "Which stock do you want to see bear spreads?: DJT\n",
      "Risk adjustment factor, how aggressive do you want to be with a price target (-0.1 highly aggressive to 0.1 conservative): 0\n",
      "A list of all contract expiration dates: \n",
      "2024-05-03 2024-05-10 2024-05-17 2024-05-24 2024-05-31 2024-06-07 2024-06-21 2024-09-20 2024-10-18 2024-11-15 2024-12-20 2025-01-17 2026-01-16\n",
      "\n",
      "Which date would you like to analyze in yyyy-mm-dd format: 2024-06-21\n",
      "current price is: 46.69, what is your price target for: 2024-06-21: 17.5\n"
     ]
    }
   ],
   "source": [
    "#choosing the stock and percent under the breakeven you want to be\n",
    "stock = input('Which stock do you want to see bear spreads?: ')\n",
    "riskAdjustment = float(input('Risk adjustment factor, how aggressive do you want to be with a price target (-0.1 highly aggressive to 0.1 conservative): '))\n",
    "putData = putFinder(getData(stock), riskAdjustment)\n",
    "putData = putData.reset_index(drop = True)\n",
    "bearSpread = spreadFinder(putData)"
   ]
  },
  {
   "cell_type": "code",
   "execution_count": 115,
   "id": "594ca398",
   "metadata": {},
   "outputs": [
    {
     "data": {
      "image/png": "[encoded data removed]",
      "text/plain": [
       "<Figure size 640x480 with 1 Axes>"
      ]
     },
     "metadata": {},
     "output_type": "display_data"
    }
   ],
   "source": [
    "strikeBarPlotter(bearSpread)"
   ]
  },
  {
   "cell_type": "code",
   "execution_count": 116,
   "id": "8ffa0460",
   "metadata": {},
   "outputs": [
    {
     "data": {
      "text/html": [
       "<div>\n",
       "<style scoped>\n",
       "    .dataframe tbody tr th:only-of-type {\n",
       "        vertical-align: middle;\n",
       "    }\n",
       "\n",
       "    .dataframe tbody tr th {\n",
       "        vertical-align: top;\n",
       "    }\n",
       "\n",
       "    .dataframe thead th {\n",
       "        text-align: right;\n",
       "    }\n",
       "</style>\n",
       "<table border=\"1\" class=\"dataframe\">\n",
       "  <thead>\n",
       "    <tr style=\"text-align: right;\">\n",
       "      <th></th>\n",
       "      <th>current price</th>\n",
       "      <th>symbol</th>\n",
       "      <th>buyStrike</th>\n",
       "      <th>buyStrikePrem</th>\n",
       "      <th>sellStrike</th>\n",
       "      <th>sellStrikePrem</th>\n",
       "      <th>maxProf</th>\n",
       "      <th>maxLoss</th>\n",
       "      <th>breakevenPrice</th>\n",
       "      <th>date</th>\n",
       "    </tr>\n",
       "  </thead>\n",
       "  <tbody>\n",
       "    <tr>\n",
       "      <th>0</th>\n",
       "      <td>46.69</td>\n",
       "      <td>DJT</td>\n",
       "      <td>21.0</td>\n",
       "      <td>3.325</td>\n",
       "      <td>16.0</td>\n",
       "      <td>1.955</td>\n",
       "      <td>363.0</td>\n",
       "      <td>137.0</td>\n",
       "      <td>19.63</td>\n",
       "      <td>2024-06-21</td>\n",
       "    </tr>\n",
       "    <tr>\n",
       "      <th>1</th>\n",
       "      <td>46.69</td>\n",
       "      <td>DJT</td>\n",
       "      <td>21.0</td>\n",
       "      <td>3.325</td>\n",
       "      <td>15.0</td>\n",
       "      <td>1.45</td>\n",
       "      <td>412.5</td>\n",
       "      <td>187.5</td>\n",
       "      <td>19.12</td>\n",
       "      <td>2024-06-21</td>\n",
       "    </tr>\n",
       "    <tr>\n",
       "      <th>2</th>\n",
       "      <td>46.69</td>\n",
       "      <td>DJT</td>\n",
       "      <td>21.0</td>\n",
       "      <td>3.325</td>\n",
       "      <td>14.0</td>\n",
       "      <td>1.415</td>\n",
       "      <td>509.0</td>\n",
       "      <td>191.0</td>\n",
       "      <td>19.09</td>\n",
       "      <td>2024-06-21</td>\n",
       "    </tr>\n",
       "  </tbody>\n",
       "</table>\n",
       "</div>"
      ],
      "text/plain": [
       "  current price symbol buyStrike buyStrikePrem sellStrike sellStrikePrem  \\\n",
       "0         46.69    DJT      21.0         3.325       16.0          1.955   \n",
       "1         46.69    DJT      21.0         3.325       15.0           1.45   \n",
       "2         46.69    DJT      21.0         3.325       14.0          1.415   \n",
       "\n",
       "  maxProf maxLoss  breakevenPrice        date  \n",
       "0   363.0   137.0           19.63  2024-06-21  \n",
       "1   412.5   187.5           19.12  2024-06-21  \n",
       "2   509.0   191.0           19.09  2024-06-21  "
      ]
     },
     "execution_count": 116,
     "metadata": {},
     "output_type": "execute_result"
    }
   ],
   "source": [
    "bearSpread"
   ]
  },
  {
   "cell_type": "code",
   "execution_count": null,
   "id": "e650364d",
   "metadata": {},
   "outputs": [],
   "source": []
  }
 ],
 "metadata": {
  "kernelspec": {
   "display_name": "Python 3 (ipykernel)",
   "language": "python",
   "name": "python3"
  },
  "language_info": {
   "codemirror_mode": {
    "name": "ipython",
    "version": 3
   },
   "file_extension": ".py",
   "mimetype": "text/x-python",
   "name": "python",
   "nbconvert_exporter": "python",
   "pygments_lexer": "ipython3",
   "version": "3.10.9"
  }
 },
 "nbformat": 4,
 "nbformat_minor": 5
}
